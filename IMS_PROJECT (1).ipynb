{
 "cells": [
  {
   "cell_type": "code",
   "execution_count": 26,
   "id": "846ffd59",
   "metadata": {},
   "outputs": [],
   "source": [
    "record ={1000:{'Product name' : 'Coke','Quanity' : 100, 'Price' : 35, 'Dealer code' : 1 },\n",
    "1001: {'Product name': 'Sprite', 'Quanity' : 200, 'Price' : 40, 'Dealer code' : 6 },\n",
    "1002: {'Product name':'Thums Up', 'Quanity' :120, 'Price' :55, 'Dealer code' : 2},\n",
    "1003: {'Product name':'Pepsi', 'Quanity' :60, 'Price' :15, 'Dealer code' : 4},\n",
    "1004: {'Product name':'Coca Cola', 'Quanity' :80, 'Price' :12, 'Dealer code' : 10},\n",
    "1005: {'Product name':'Limca', 'Quanity' :55, 'Price' :22 , 'Dealer code' : 3},\n",
    "1006: {'Product name':'Mirinda', 'Quanity' :90, 'Price' :10 , 'Dealer code' : 8},\n",
    "1007: {'Product name':'Fanta', 'Quanity' :30, 'Price' :20, 'Dealer code' : 11},\n",
    "1008: {'Product name':'Seven Up', 'Quanity' :15, 'Price' :20 , 'Dealer code' : 14},\n",
    "1009: {'Product name':'Lemon Soda', 'Quanity' :25, 'Price' :30, 'Dealer code' : 15},\n",
    "1010: {'Product name':'Apple Juice', 'Quanity' :600, 'Price' :20 ,'Dealer code' : 12},\n",
    "1011: {'Product name':'Real Juice', 'Quanity' :100, 'Price' :90, 'Dealer code' : 7},\n",
    "1012: {'Product name':'Coconut Milk', 'Quanity' :130, 'Price' :100,'Dealer code' : 30},\n",
    "1013: {'Product name':'Banana shake', 'Quanity' :100, 'Price' :70, 'Dealer code' : 31},\n",
    "1014: {'Product name':'Lassi', 'Quanity' :50, 'Price' :80 , 'Dealer code' : 36},\n",
    "1015: {'Product name':'Jalzira', 'Quanity' :190, 'Price' :200 , 'Dealer code' : 80},\n",
    "1016: {'Product name':'Nimbu Pani', 'Quanity' :40, 'Price' :30, 'Dealer code' : 37},\n",
    "1017: {'Product name':'Special one', 'Quanity' :500, 'Price' :400 ,'Dealer code' : 38},\n",
    "1018: {'Product name':'Coffee', 'Quanity' :80, 'Price' :30, 'Dealer code' : 41},\n",
    "1019: {'Product name':'Cold coffee', 'Quanity' :400, 'Price' :60,'Dealer code' : 44},\n",
    "1020: {'Product name':'Butter milk', 'Quanity' :400, 'Price' :10,'Dealer code' : 78},\n",
    "1021: {'Product name':'Fruity', 'Quanity' :30, 'Price' :15,'Dealer code' : 49},\n",
    "1022: {'Product name':'Butterscoch shake', 'Quanity' :280, 'Price' :50,'Dealer code' : 100},\n",
    "1023: {'Product name':'Creamly shake', 'Quanity' :30, 'Price' :40,'Dealer code' : 111},\n",
    "1024: { 'Product name':'Plain milk', 'Quanity' :70, 'Price' :55,'Dealer code' : 22},\n",
    "1025: { 'Product name':'Cold milk', 'Quanity' :20, 'Price' :100,'Dealer code' : 59},\n",
    "1026: { 'Product name':'Amul milk', 'Quanity' :120, 'Price' :40, 'Dealer code' : 62},\n",
    "1027: { 'Product name':'Plain water', 'Quanity' :480, 'Price' :10,'Dealer code' : 86},\n",
    "1028: { 'Product name':'Distill water', 'Quanity' :500, 'Price' :15,'Dealer code' : 95},\n",
    "1029: { 'Product name':'Soda', 'Quanity' :300, 'Price' :50, 'Dealer code' : 98},\n",
    "1030: { 'Product name':'Limca small', 'Quanity' :30, 'Price' :30,'Dealer code' : 99}}\n",
    "\n",
    "   "
   ]
  },
  {
   "cell_type": "code",
   "execution_count": 27,
   "id": "e7c7b0ce",
   "metadata": {},
   "outputs": [],
   "source": [
    "sales1 = { 1:{'Product name' : 'Coke','Quanity' : 100, 'Price' : 35 },\n",
    "2: {'Product name': 'Sprite', 'Quanity' : 200, 'Price' : 40 },\n",
    "3: {'Product name':'Thums Up', 'Quanity' :120, 'Price' :55}}"
   ]
  },
  {
   "cell_type": "code",
   "execution_count": null,
   "id": "caa93f26",
   "metadata": {},
   "outputs": [],
   "source": []
  },
  {
   "cell_type": "code",
   "execution_count": 28,
   "id": "7bf8560a",
   "metadata": {},
   "outputs": [
    {
     "data": {
      "text/plain": [
       "dict"
      ]
     },
     "execution_count": 28,
     "metadata": {},
     "output_type": "execute_result"
    }
   ],
   "source": [
    "type(record)"
   ]
  },
  {
   "cell_type": "code",
   "execution_count": 29,
   "id": "4b72a24b",
   "metadata": {},
   "outputs": [],
   "source": [
    "import json"
   ]
  },
  {
   "cell_type": "code",
   "execution_count": 30,
   "id": "0d555d64",
   "metadata": {},
   "outputs": [],
   "source": [
    "sd = json.dumps(sales1)"
   ]
  },
  {
   "cell_type": "code",
   "execution_count": 31,
   "id": "b1f267db",
   "metadata": {},
   "outputs": [],
   "source": [
    "js = json.dumps(record)"
   ]
  },
  {
   "cell_type": "code",
   "execution_count": 32,
   "id": "5b0186fb",
   "metadata": {},
   "outputs": [
    {
     "data": {
      "text/plain": [
       "'{\"1\": {\"Product name\": \"Coke\", \"Quanity\": 100, \"Price\": 35}, \"2\": {\"Product name\": \"Sprite\", \"Quanity\": 200, \"Price\": 40}, \"3\": {\"Product name\": \"Thums Up\", \"Quanity\": 120, \"Price\": 55}}'"
      ]
     },
     "execution_count": 32,
     "metadata": {},
     "output_type": "execute_result"
    }
   ],
   "source": [
    "sd"
   ]
  },
  {
   "cell_type": "code",
   "execution_count": 33,
   "id": "d7c83fab",
   "metadata": {},
   "outputs": [
    {
     "data": {
      "text/plain": [
       "'{\"1000\": {\"Product name\": \"Coke\", \"Quanity\": 100, \"Price\": 35, \"Dealer code\": 1}, \"1001\": {\"Product name\": \"Sprite\", \"Quanity\": 200, \"Price\": 40, \"Dealer code\": 6}, \"1002\": {\"Product name\": \"Thums Up\", \"Quanity\": 120, \"Price\": 55, \"Dealer code\": 2}, \"1003\": {\"Product name\": \"Pepsi\", \"Quanity\": 60, \"Price\": 15, \"Dealer code\": 4}, \"1004\": {\"Product name\": \"Coca Cola\", \"Quanity\": 80, \"Price\": 12, \"Dealer code\": 10}, \"1005\": {\"Product name\": \"Limca\", \"Quanity\": 55, \"Price\": 22, \"Dealer code\": 3}, \"1006\": {\"Product name\": \"Mirinda\", \"Quanity\": 90, \"Price\": 10, \"Dealer code\": 8}, \"1007\": {\"Product name\": \"Fanta\", \"Quanity\": 30, \"Price\": 20, \"Dealer code\": 11}, \"1008\": {\"Product name\": \"Seven Up\", \"Quanity\": 15, \"Price\": 20, \"Dealer code\": 14}, \"1009\": {\"Product name\": \"Lemon Soda\", \"Quanity\": 25, \"Price\": 30, \"Dealer code\": 15}, \"1010\": {\"Product name\": \"Apple Juice\", \"Quanity\": 600, \"Price\": 20, \"Dealer code\": 12}, \"1011\": {\"Product name\": \"Real Juice\", \"Quanity\": 100, \"Price\": 90, \"Dealer code\": 7}, \"1012\": {\"Product name\": \"Coconut Milk\", \"Quanity\": 130, \"Price\": 100, \"Dealer code\": 30}, \"1013\": {\"Product name\": \"Banana shake\", \"Quanity\": 100, \"Price\": 70, \"Dealer code\": 31}, \"1014\": {\"Product name\": \"Lassi\", \"Quanity\": 50, \"Price\": 80, \"Dealer code\": 36}, \"1015\": {\"Product name\": \"Jalzira\", \"Quanity\": 190, \"Price\": 200, \"Dealer code\": 80}, \"1016\": {\"Product name\": \"Nimbu Pani\", \"Quanity\": 40, \"Price\": 30, \"Dealer code\": 37}, \"1017\": {\"Product name\": \"Special one\", \"Quanity\": 500, \"Price\": 400, \"Dealer code\": 38}, \"1018\": {\"Product name\": \"Coffee\", \"Quanity\": 80, \"Price\": 30, \"Dealer code\": 41}, \"1019\": {\"Product name\": \"Cold coffee\", \"Quanity\": 400, \"Price\": 60, \"Dealer code\": 44}, \"1020\": {\"Product name\": \"Butter milk\", \"Quanity\": 400, \"Price\": 10, \"Dealer code\": 78}, \"1021\": {\"Product name\": \"Fruity\", \"Quanity\": 30, \"Price\": 15, \"Dealer code\": 49}, \"1022\": {\"Product name\": \"Butterscoch shake\", \"Quanity\": 280, \"Price\": 50, \"Dealer code\": 100}, \"1023\": {\"Product name\": \"Creamly shake\", \"Quanity\": 30, \"Price\": 40, \"Dealer code\": 111}, \"1024\": {\"Product name\": \"Plain milk\", \"Quanity\": 70, \"Price\": 55, \"Dealer code\": 22}, \"1025\": {\"Product name\": \"Cold milk\", \"Quanity\": 20, \"Price\": 100, \"Dealer code\": 59}, \"1026\": {\"Product name\": \"Amul milk\", \"Quanity\": 120, \"Price\": 40, \"Dealer code\": 62}, \"1027\": {\"Product name\": \"Plain water\", \"Quanity\": 480, \"Price\": 10, \"Dealer code\": 86}, \"1028\": {\"Product name\": \"Distill water\", \"Quanity\": 500, \"Price\": 15, \"Dealer code\": 95}, \"1029\": {\"Product name\": \"Soda\", \"Quanity\": 300, \"Price\": 50, \"Dealer code\": 98}, \"1030\": {\"Product name\": \"Limca small\", \"Quanity\": 30, \"Price\": 30, \"Dealer code\": 99}}'"
      ]
     },
     "execution_count": 33,
     "metadata": {},
     "output_type": "execute_result"
    }
   ],
   "source": [
    "js"
   ]
  },
  {
   "cell_type": "code",
   "execution_count": 34,
   "id": "29dcbdbd",
   "metadata": {},
   "outputs": [],
   "source": [
    "d = open(\"sales1.json\",'w')\n",
    "d.write(sd)\n",
    "d.close()"
   ]
  },
  {
   "cell_type": "code",
   "execution_count": 35,
   "id": "065baad8",
   "metadata": {},
   "outputs": [],
   "source": [
    "fd = open(\"record.json\",'w')\n",
    "fd.write(js)\n",
    "fd.close()"
   ]
  },
  {
   "cell_type": "code",
   "execution_count": 36,
   "id": "899094a1",
   "metadata": {},
   "outputs": [],
   "source": [
    "fd = open(\"record.json\", 'r')\n",
    "txt = fd.read()\n",
    "fd.close()"
   ]
  },
  {
   "cell_type": "code",
   "execution_count": 37,
   "id": "2f97606e",
   "metadata": {},
   "outputs": [],
   "source": [
    "fd = open(\"sales1.json\", 'r')\n",
    "txt1 = fd.read()\n",
    "fd.close()"
   ]
  },
  {
   "cell_type": "code",
   "execution_count": 38,
   "id": "4a94c842",
   "metadata": {},
   "outputs": [],
   "source": [
    "sales1 = json.loads(txt1)"
   ]
  },
  {
   "cell_type": "code",
   "execution_count": 39,
   "id": "1481a7fd",
   "metadata": {},
   "outputs": [
    {
     "data": {
      "text/plain": [
       "3"
      ]
     },
     "execution_count": 39,
     "metadata": {},
     "output_type": "execute_result"
    }
   ],
   "source": [
    "len(sales1)"
   ]
  },
  {
   "cell_type": "code",
   "execution_count": 40,
   "id": "86e8aac0",
   "metadata": {},
   "outputs": [],
   "source": [
    "record = json.loads(txt)"
   ]
  },
  {
   "cell_type": "code",
   "execution_count": null,
   "id": "24031886",
   "metadata": {},
   "outputs": [
    {
     "name": "stdout",
     "output_type": "stream",
     "text": [
      "Welcome to IMS\n",
      " \n",
      "A - Add the product\n",
      "P - Purchase  the product \n",
      "V- View all the product\n",
      "M - view sales\n",
      "Q- Quit\n",
      "What would you like to do? p\n",
      "Enter the id in 4 digit no. between 1000 to 1030 : 1020\n",
      "Enter the quanity : 4\n",
      "Product name Butter milk\n",
      "Price  10\n",
      "Amount :  40\n",
      "What would you like to do? m\n",
      "{\"1\": {\"Product name\": \"Coke\", \"Quanity\": 100, \"Price\": 35}, \"2\": {\"Product name\": \"Sprite\", \"Quanity\": 200, \"Price\": 40}, \"3\": {\"Product name\": \"Thums Up\", \"Quanity\": 120, \"Price\": 55}, \"4\": {\"Product name\": \"1010\", \"Quanity\": 6, \"price\": 20}, \"5\": {\"Product name\": \"Butter milk\", \"Quanity\": 4, \"price\": 10}}\n",
      "What would you like to do? p\n",
      "Enter the id in 4 digit no. between 1000 to 1030 : 1022\n",
      "Enter the quanity : 10\n",
      "Product name Butterscoch shake\n",
      "Price  50\n",
      "Amount :  500\n",
      "What would you like to do? p\n",
      "Enter the id in 4 digit no. between 1000 to 1030 : 1002\n",
      "Enter the quanity : 5\n",
      "Product name Thums Up\n",
      "Price  55\n",
      "Amount :  275\n",
      "What would you like to do? p\n",
      "Enter the id in 4 digit no. between 1000 to 1030 : 1008\n",
      "Enter the quanity : 6\n",
      "Product name Seven Up\n",
      "Price  20\n",
      "Amount :  120\n",
      "What would you like to do? p\n",
      "Enter the id in 4 digit no. between 1000 to 1030 : 1025\n",
      "Enter the quanity : 6\n",
      "Product name Cold milk\n",
      "Price  100\n",
      "Amount :  600\n",
      "What would you like to do? 1001\n",
      "Invaild input\n",
      "What would you like to do? p\n",
      "Enter the id in 4 digit no. between 1000 to 1030 : 1001\n",
      "Enter the quanity : 2\n",
      "Product name Sprite\n",
      "Price  40\n",
      "Amount :  80\n",
      "What would you like to do? 1012\n",
      "Invaild input\n",
      "What would you like to do? p\n",
      "Enter the id in 4 digit no. between 1000 to 1030 : 1012\n",
      "Enter the quanity : 7\n",
      "Product name Coconut Milk\n",
      "Price  100\n",
      "Amount :  700\n",
      "What would you like to do? 1006\n",
      "Invaild input\n",
      "What would you like to do? p\n",
      "Enter the id in 4 digit no. between 1000 to 1030 : 1006\n",
      "Enter the quanity : 2\n",
      "Product name Mirinda\n",
      "Price  10\n",
      "Amount :  20\n",
      "What would you like to do? p\n",
      "Enter the id in 4 digit no. between 1000 to 1030 : 1015\n",
      "Enter the quanity : 1\n",
      "Product name Jalzira\n",
      "Price  200\n",
      "Amount :  200\n",
      "What would you like to do? a\n",
      "Enter product id only 4 digit no. 1031\n",
      "Enter the drink item name Beer\n",
      "Enter quanity of the item 60\n",
      "Enter the price of the product 115\n",
      "Enter the dealer code 106\n",
      "Product add sucessfully \n",
      "What would you like to do? a\n",
      "Enter product id only 4 digit no. 1032\n",
      "Enter the drink item name Brandy\n",
      "Enter quanity of the item 100\n",
      "Enter the price of the product 125\n",
      "Enter the dealer code 90\n",
      "Product add sucessfully \n",
      "What would you like to do? a\n",
      "Enter product id only 4 digit no. 1033\n",
      "Enter the drink item name Rum\n",
      "Enter quanity of the item 30\n",
      "Enter the price of the product 500\n",
      "Enter the dealer code 9\n",
      "Product add sucessfully \n",
      "What would you like to do? a\n",
      "Enter product id only 4 digit no. 1034\n",
      "Enter the drink item name Green_tea\n",
      "Enter quanity of the item 200\n",
      "Enter the price of the product 20\n",
      "Enter the dealer code 799\n",
      "Product add sucessfully \n",
      "What would you like to do? a\n",
      "Enter product id only 4 digit no. 1035\n",
      "Enter the drink item name lemonade\n",
      "Enter quanity of the item 300\n",
      "Enter the price of the product 160\n",
      "Enter the dealer code 299\n",
      "Product add sucessfully \n",
      "What would you like to do? a\n",
      "Enter product id only 4 digit no. 1036\n",
      "Enter the drink item name Cocoa\n",
      "Enter quanity of the item 50\n",
      "Enter the price of the product 10\n",
      "Enter the dealer code 599\n",
      "Product add sucessfully \n",
      "What would you like to do? v\n",
      "{\"1000\": {\"Product name\": \"Coke\", \"Quanity\": 100, \"Price\": 35, \"Dealer code\": 1}, \"1001\": {\"Product name\": \"Sprite\", \"Quanity\": 198, \"Price\": 40, \"Dealer code\": 6}, \"1002\": {\"Product name\": \"Thums Up\", \"Quanity\": 115, \"Price\": 55, \"Dealer code\": 2}, \"1003\": {\"Product name\": \"Pepsi\", \"Quanity\": 60, \"Price\": 15, \"Dealer code\": 4}, \"1004\": {\"Product name\": \"Coca Cola\", \"Quanity\": 80, \"Price\": 12, \"Dealer code\": 10}, \"1005\": {\"Product name\": \"Limca\", \"Quanity\": 55, \"Price\": 22, \"Dealer code\": 3}, \"1006\": {\"Product name\": \"Mirinda\", \"Quanity\": 88, \"Price\": 10, \"Dealer code\": 8}, \"1007\": {\"Product name\": \"Fanta\", \"Quanity\": 30, \"Price\": 20, \"Dealer code\": 11}, \"1008\": {\"Product name\": \"Seven Up\", \"Quanity\": 9, \"Price\": 20, \"Dealer code\": 14}, \"1009\": {\"Product name\": \"Lemon Soda\", \"Quanity\": 25, \"Price\": 30, \"Dealer code\": 15}, \"1010\": {\"Product name\": \"Apple Juice\", \"Quanity\": 594, \"Price\": 20, \"Dealer code\": 12}, \"1011\": {\"Product name\": \"Real Juice\", \"Quanity\": 100, \"Price\": 90, \"Dealer code\": 7}, \"1012\": {\"Product name\": \"Coconut Milk\", \"Quanity\": 123, \"Price\": 100, \"Dealer code\": 30}, \"1013\": {\"Product name\": \"Banana shake\", \"Quanity\": 100, \"Price\": 70, \"Dealer code\": 31}, \"1014\": {\"Product name\": \"Lassi\", \"Quanity\": 50, \"Price\": 80, \"Dealer code\": 36}, \"1015\": {\"Product name\": \"Jalzira\", \"Quanity\": 189, \"Price\": 200, \"Dealer code\": 80}, \"1016\": {\"Product name\": \"Nimbu Pani\", \"Quanity\": 40, \"Price\": 30, \"Dealer code\": 37}, \"1017\": {\"Product name\": \"Special one\", \"Quanity\": 500, \"Price\": 400, \"Dealer code\": 38}, \"1018\": {\"Product name\": \"Coffee\", \"Quanity\": 80, \"Price\": 30, \"Dealer code\": 41}, \"1019\": {\"Product name\": \"Cold coffee\", \"Quanity\": 400, \"Price\": 60, \"Dealer code\": 44}, \"1020\": {\"Product name\": \"Butter milk\", \"Quanity\": 396, \"Price\": 10, \"Dealer code\": 78}, \"1021\": {\"Product name\": \"Fruity\", \"Quanity\": 30, \"Price\": 15, \"Dealer code\": 49}, \"1022\": {\"Product name\": \"Butterscoch shake\", \"Quanity\": 270, \"Price\": 50, \"Dealer code\": 100}, \"1023\": {\"Product name\": \"Creamly shake\", \"Quanity\": 30, \"Price\": 40, \"Dealer code\": 111}, \"1024\": {\"Product name\": \"Plain milk\", \"Quanity\": 70, \"Price\": 55, \"Dealer code\": 22}, \"1025\": {\"Product name\": \"Cold milk\", \"Quanity\": 14, \"Price\": 100, \"Dealer code\": 59}, \"1026\": {\"Product name\": \"Amul milk\", \"Quanity\": 120, \"Price\": 40, \"Dealer code\": 62}, \"1027\": {\"Product name\": \"Plain water\", \"Quanity\": 480, \"Price\": 10, \"Dealer code\": 86}, \"1028\": {\"Product name\": \"Distill water\", \"Quanity\": 500, \"Price\": 15, \"Dealer code\": 95}, \"1029\": {\"Product name\": \"Soda\", \"Quanity\": 300, \"Price\": 50, \"Dealer code\": 98}, \"1030\": {\"Product name\": \"Limca small\", \"Quanity\": 30, \"Price\": 30, \"Dealer code\": 99}, \"1031\": {\"Product name\": \"Beer\", \"Quanity\": 60, \"Price\": 115, \"Dealer code\": 106}, \"1032\": {\"Product name\": \"Brandy\", \"Quanity\": 100, \"Price\": 125, \"Dealer code\": 90}, \"1033\": {\"Product name\": \"Rum\", \"Quanity\": 30, \"Price\": 500, \"Dealer code\": 9}, \"1034\": {\"Product name\": \"Green_tea\", \"Quanity\": 200, \"Price\": 20, \"Dealer code\": 799}, \"1035\": {\"Product name\": \"lemonade\", \"Quanity\": 300, \"Price\": 160, \"Dealer code\": 299}, \"1036\": {\"Product name\": \"Cocoa\", \"Quanity\": 50, \"Price\": 10, \"Dealer code\": 599}}\n",
      "What would you like to do? m\n",
      "{\"1\": {\"Product name\": \"Coke\", \"Quanity\": 100, \"Price\": 35}, \"2\": {\"Product name\": \"Sprite\", \"Quanity\": 200, \"Price\": 40}, \"3\": {\"Product name\": \"Thums Up\", \"Quanity\": 120, \"Price\": 55}, \"4\": {\"Product name\": \"1010\", \"Quanity\": 6, \"price\": 20}, \"5\": {\"Product name\": \"Butter milk\", \"Quanity\": 4, \"price\": 10}, \"6\": {\"Product name\": \"Butterscoch shake\", \"Quanity\": 10, \"price\": 50}, \"7\": {\"Product name\": \"Thums Up\", \"Quanity\": 5, \"price\": 55}, \"8\": {\"Product name\": \"Seven Up\", \"Quanity\": 6, \"price\": 20}, \"9\": {\"Product name\": \"Cold milk\", \"Quanity\": 6, \"price\": 100}, \"10\": {\"Product name\": \"Sprite\", \"Quanity\": 2, \"price\": 40}, \"11\": {\"Product name\": \"Coconut Milk\", \"Quanity\": 7, \"price\": 100}, \"12\": {\"Product name\": \"Mirinda\", \"Quanity\": 2, \"price\": 10}, \"13\": {\"Product name\": \"Jalzira\", \"Quanity\": 1, \"price\": 200}}\n"
     ]
    }
   ],
   "source": [
    "c = \"y\"\n",
    "print(\"Welcome to IMS\")\n",
    "print(\" \")\n",
    "print(\"A - Add the product\")\n",
    "print(\"P - Purchase  the product \")\n",
    "print(\"V- View all the product\")\n",
    "print(\"M - view sales\")\n",
    "print(\"Q- Quit\")\n",
    "\n",
    "\n",
    "\n",
    "while( c!=\"q\" or c!=\"Q\"):\n",
    "  c = input(\"What would you like to do? \")\n",
    "  if(c==\"q\" or c==\"Q\"):\n",
    "    break\n",
    "  elif(c==\"a\" or c==\"A\"):\n",
    "    Product_id = int(input(\"Enter product id only 4 digit no. \"))\n",
    "    Product_name = input(\"Enter the drink item name \")\n",
    "    Quanity = int(input(\"Enter quanity of the item \"))\n",
    "    Price = int(input(\"Enter the price of the product \"))\n",
    "    Dealer_code = int(input(\"Enter the dealer code \"))\n",
    "\n",
    "    record[Product_id] = { 'Product name' : Product_name , 'Quanity'  : Quanity , 'Price' : Price ,'Dealer code' : Dealer_code}\n",
    "    js = json.dumps(record)\n",
    "    fd = open(\"record.json\",'w')\n",
    "    fd.write(js)\n",
    "    fd.close()\n",
    "    \n",
    "    print(\"Product add sucessfully \")\n",
    "  elif(c==\"p\" or c==\"P\"):\n",
    "   \n",
    "    productid = input(\"Enter the id in 4 digit no. between 1000 to 1030 : \")\n",
    "    quantity1 = int(input(\"Enter the quanity : \"))\n",
    "    if quantity1>record[productid]['Quanity']:\n",
    "        print(\"Not in the stock\")\n",
    "        break\n",
    "        \n",
    "    else:\n",
    "        \n",
    "     print(\"Product name\",record[productid]['Product name'])\n",
    "     print(\"Price \",record[productid]['Price'])\n",
    "     print(\"Amount : \" ,record[productid]['Price'] * quantity1)\n",
    "    \n",
    "     record[productid]['Quanity']=record[productid]['Quanity']- quantity1\n",
    "     \n",
    "     sales1[(len(sales1)+1)] = {'Product name' : record[productid]['Product name'] , 'Quanity'  : quantity1 , 'price' : record[productid]['Price'] }\n",
    "     sd = json.dumps(sales1) \n",
    "     yd = open(\"sales1.json\",'w')\n",
    "     yd.write(sd)\n",
    "     yd.close()   \n",
    "     \n",
    "    \n",
    "     js = json.dumps(record)\n",
    "     fd = open(\"record.json\",'w')\n",
    "     fd.write(js)\n",
    "     fd.close()\n",
    "    \n",
    "    \n",
    "  elif(c==\"v\" or c==\"V\"):\n",
    "    fd = open(\"record.json\",'r')\n",
    "    txt = fd.read()\n",
    "    fd.close()\n",
    "    print(txt)\n",
    "  elif(c==\"m\" or c==\"M\"):\n",
    "    fd = open(\"sales1.json\",'r')\n",
    "    txt = fd.read()\n",
    "    fd.close()\n",
    "    print(txt)\n",
    "    \n",
    "\n",
    "  else:\n",
    "   print(\"Invaild input\")"
   ]
  },
  {
   "cell_type": "code",
   "execution_count": null,
   "id": "76c9ac6c",
   "metadata": {},
   "outputs": [],
   "source": [
    "record"
   ]
  },
  {
   "cell_type": "code",
   "execution_count": null,
   "id": "2e4c15de",
   "metadata": {},
   "outputs": [],
   "source": []
  },
  {
   "cell_type": "code",
   "execution_count": null,
   "id": "c691f4bd",
   "metadata": {},
   "outputs": [],
   "source": []
  },
  {
   "cell_type": "code",
   "execution_count": null,
   "id": "b0287b28",
   "metadata": {},
   "outputs": [],
   "source": []
  },
  {
   "cell_type": "code",
   "execution_count": null,
   "id": "60a17afb",
   "metadata": {},
   "outputs": [],
   "source": []
  }
 ],
 "metadata": {
  "kernelspec": {
   "display_name": "Python 3",
   "language": "python",
   "name": "python3"
  },
  "language_info": {
   "codemirror_mode": {
    "name": "ipython",
    "version": 3
   },
   "file_extension": ".py",
   "mimetype": "text/x-python",
   "name": "python",
   "nbconvert_exporter": "python",
   "pygments_lexer": "ipython3",
   "version": "3.8.8"
  }
 },
 "nbformat": 4,
 "nbformat_minor": 5
}
